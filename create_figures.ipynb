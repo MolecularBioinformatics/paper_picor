{
 "cells": [
  {
   "cell_type": "code",
   "execution_count": 1,
   "metadata": {},
   "outputs": [],
   "source": [
    "from pathlib import Path\n",
    "import os\n",
    "import sys\n",
    "import itertools as it\n",
    "\n",
    "import pandas as pd\n",
    "import matplotlib.pyplot as plt\n",
    "import matplotlib.ticker as mtick\n",
    "import seaborn as sns\n",
    "import picor as ic\n",
    "\n",
    "from analysis_functions import analyse_rawfile, column_percentage"
   ]
  },
  {
   "cell_type": "markdown",
   "metadata": {},
   "source": [
    "# Spectrum + time course"
   ]
  },
  {
   "cell_type": "code",
   "execution_count": 2,
   "metadata": {},
   "outputs": [],
   "source": [
    "def calc_percentage(df, usecols):\n",
    "    \"\"\"Return dataframe of percentages of control experiment\"\"\"\n",
    "    data = df.groupby(\"Exp\").get_group(\"C\")\n",
    "    data = column_percentage(data, usecols=usecols) * 100\n",
    "    data.drop(columns=[\"Rep\", \"Exp\"], inplace=True)\n",
    "    return data\n",
    "\n",
    "\n",
    "def plot_time_course_corr_uncorr(dfs, usecols, ax):\n",
    "    \"\"\"Plot time course of both corrected and uncorrected data\"\"\"\n",
    "    data_corr = calc_percentage(dfs[\"corr\"], usecols=usecols).add_suffix(\" corr\")\n",
    "    data_uncorr = calc_percentage(dfs[\"uncorr\"], usecols=usecols).add_suffix(\" uncorr\")\n",
    "\n",
    "    dashes = {key: (1, 1) for key in data_uncorr.keys()}\n",
    "\n",
    "    sns.lineplot(data=data_corr, ax=ax, ci=None, dashes=False, legend=\"brief\")\n",
    "    sns.lineplot(data=data_uncorr, ax=ax, ci=None, dashes=dashes, legend=\"brief\")\n",
    "    sns.scatterplot(data=data_corr, ax=ax, markers=[\"o\", \"o\",\"o\"], s=25, legend=False)\n",
    "    sns.scatterplot(data=data_uncorr, ax=ax, markers=[\"D\", \"D\", \"D\"], s=25, legend=False)\n",
    "\n",
    "    ax.set_ylabel(\"Isotopologue Abundance\")\n",
    "    fmt = \"%.0f%%\"  # Format you want the ticks, e.g. '40%'\n",
    "    yticks = mtick.FormatStrFormatter(fmt)\n",
    "    ax.yaxis.set_major_formatter(yticks)\n",
    "\n",
    "    sns.despine(ax=ax)\n",
    "    plt.tight_layout()\n",
    "    ax.get_legend().remove()"
   ]
  },
  {
   "cell_type": "markdown",
   "metadata": {},
   "source": [
    "## Histone 3"
   ]
  },
  {
   "cell_type": "code",
   "execution_count": 3,
   "metadata": {},
   "outputs": [],
   "source": [
    "molecule = \"K(ac)QLATK(ac)AAR\""
   ]
  },
  {
   "cell_type": "code",
   "execution_count": 4,
   "metadata": {},
   "outputs": [],
   "source": [
    "accucor_res = pd.read_excel(\"histone3/accucor_input_corrected.xlsx\", sheet_name=\"Corrected\")\n",
    "accucor_res.drop(index=range(8,46), inplace=True)\n",
    "accucor_res.index = [\"No Label\"] + [f\"{i}C13\" for i in range(1,8)]\n",
    "accucor_res.drop(columns=[\"Compound\", \"C_Label\"], inplace=True)\n",
    "accucor_res.columns = [\"AccuCor\"]"
   ]
  },
  {
   "cell_type": "code",
   "execution_count": 5,
   "metadata": {},
   "outputs": [],
   "source": [
    "spect = pd.read_csv(\"histone3//spectrum_heights.csv\", index_col=0)\n",
    "\n",
    "spect.columns = [\"No Label\"] + [f\"{i}C13\" for i in range(1,8)]\n",
    "\n",
    "# Get abundances relative to heighest peak\n",
    "m = spect.max().max()\n",
    "spect = spect / m * 100"
   ]
  },
  {
   "cell_type": "code",
   "execution_count": 6,
   "metadata": {
    "scrolled": true
   },
   "outputs": [],
   "source": [
    "res = ic.calc_isotopologue_correction(spect, molecule_name=molecule, resolution_correction=True, resolution=60000)\n",
    "res = res.transpose()\n",
    "res.columns = [\"PICor\"]"
   ]
  },
  {
   "cell_type": "code",
   "execution_count": 7,
   "metadata": {},
   "outputs": [],
   "source": [
    "data_input = spect.transpose()\n",
    "data_input.columns = [\"Peak Heights\"]"
   ]
  },
  {
   "cell_type": "code",
   "execution_count": 8,
   "metadata": {},
   "outputs": [
    {
     "data": {
      "text/html": [
       "<div>\n",
       "<style scoped>\n",
       "    .dataframe tbody tr th:only-of-type {\n",
       "        vertical-align: middle;\n",
       "    }\n",
       "\n",
       "    .dataframe tbody tr th {\n",
       "        vertical-align: top;\n",
       "    }\n",
       "\n",
       "    .dataframe thead th {\n",
       "        text-align: right;\n",
       "    }\n",
       "</style>\n",
       "<table border=\"1\" class=\"dataframe\">\n",
       "  <thead>\n",
       "    <tr style=\"text-align: right;\">\n",
       "      <th></th>\n",
       "      <th>Peak Heights</th>\n",
       "      <th>PICor</th>\n",
       "      <th>AccuCor</th>\n",
       "    </tr>\n",
       "  </thead>\n",
       "  <tbody>\n",
       "    <tr>\n",
       "      <th>M+0</th>\n",
       "      <td>60.675204</td>\n",
       "      <td>109.816292</td>\n",
       "      <td>108.641258</td>\n",
       "    </tr>\n",
       "    <tr>\n",
       "      <th>M+1</th>\n",
       "      <td>36.909273</td>\n",
       "      <td>0.000000</td>\n",
       "      <td>5.568223</td>\n",
       "    </tr>\n",
       "    <tr>\n",
       "      <th>M+2</th>\n",
       "      <td>100.000000</td>\n",
       "      <td>153.012417</td>\n",
       "      <td>153.003472</td>\n",
       "    </tr>\n",
       "    <tr>\n",
       "      <th>M+3</th>\n",
       "      <td>55.344305</td>\n",
       "      <td>0.000000</td>\n",
       "      <td>9.488295</td>\n",
       "    </tr>\n",
       "    <tr>\n",
       "      <th>M+4</th>\n",
       "      <td>54.063714</td>\n",
       "      <td>61.233765</td>\n",
       "      <td>61.376189</td>\n",
       "    </tr>\n",
       "    <tr>\n",
       "      <th>M+5</th>\n",
       "      <td>29.482191</td>\n",
       "      <td>6.466684</td>\n",
       "      <td>11.264568</td>\n",
       "    </tr>\n",
       "    <tr>\n",
       "      <th>M+6</th>\n",
       "      <td>18.936887</td>\n",
       "      <td>15.228486</td>\n",
       "      <td>15.869178</td>\n",
       "    </tr>\n",
       "    <tr>\n",
       "      <th>M+7</th>\n",
       "      <td>13.157303</td>\n",
       "      <td>9.528451</td>\n",
       "      <td>6.763924</td>\n",
       "    </tr>\n",
       "  </tbody>\n",
       "</table>\n",
       "</div>"
      ],
      "text/plain": [
       "     Peak Heights       PICor     AccuCor\n",
       "M+0     60.675204  109.816292  108.641258\n",
       "M+1     36.909273    0.000000    5.568223\n",
       "M+2    100.000000  153.012417  153.003472\n",
       "M+3     55.344305    0.000000    9.488295\n",
       "M+4     54.063714   61.233765   61.376189\n",
       "M+5     29.482191    6.466684   11.264568\n",
       "M+6     18.936887   15.228486   15.869178\n",
       "M+7     13.157303    9.528451    6.763924"
      ]
     },
     "execution_count": 8,
     "metadata": {},
     "output_type": "execute_result"
    }
   ],
   "source": [
    "comparison = pd.concat(\n",
    "    [data_input, res, accucor_res], axis=1\n",
    ")\n",
    "comparison.index = [f\"M+{i}\" for i in range(8)]\n",
    "comparison"
   ]
  },
  {
   "cell_type": "code",
   "execution_count": 9,
   "metadata": {},
   "outputs": [],
   "source": [
    "comparison.to_csv(\"histone3/comparison_data.csv\")"
   ]
  },
  {
   "cell_type": "code",
   "execution_count": 10,
   "metadata": {},
   "outputs": [],
   "source": [
    "comparison = pd.read_csv(\"histone3/comparison_data.csv\", index_col=0)\n",
    "comparison.rename(columns={\"Peak Heights\": \"Uncorrected\"}, inplace=True)"
   ]
  },
  {
   "cell_type": "code",
   "execution_count": 11,
   "metadata": {},
   "outputs": [],
   "source": [
    "#Timecourse data\n",
    "infile = \"histone3/200805_KQLATKAAR_ms-data.xlsx\"\n",
    "\n",
    "col_mapping = {\n",
    "    \"No label\": \"No Label\",\n",
    "    \"2C13\": \"13C2\",\n",
    "    \"4C13\": \"13C4\",\n",
    "}\n",
    "all_col = list(col_mapping.values())\n",
    "\n",
    "dfs = {}\n",
    "dfs[\"uncorr\"] = analyse_rawfile(infile, isotopologue_correction=False).rename(\n",
    "    columns=col_mapping\n",
    ")\n",
    "dfs[\"corr\"] = analyse_rawfile(infile, isotopologue_correction=True, resolution_correction=True).rename(\n",
    "    columns=col_mapping\n",
    ")"
   ]
  },
  {
   "cell_type": "code",
   "execution_count": 12,
   "metadata": {},
   "outputs": [
    {
     "data": {
      "image/png": "[encoded data removed]",
      "text/plain": [
       "<Figure size 239.76x360 with 4 Axes>"
      ]
     },
     "metadata": {
      "needs_background": "light"
     },
     "output_type": "display_data"
    }
   ],
   "source": [
    "sns.set_context(\"paper\", font_scale=0.8)\n",
    "fig, axs = plt.subplots(nrows=3, figsize=(3.33, 5), sharex=False, sharey=False)\n",
    "\n",
    "# add a big axis, hide frame\n",
    "fig.add_subplot(111, frameon=False)\n",
    "# hide tick and tick label of the big axis\n",
    "plt.tick_params(\n",
    "    labelcolor=\"none\", which=\"both\", top=False, bottom=False, left=False, right=False\n",
    ")\n",
    "axs[0].set_xlabel(\"m/z\")\n",
    "\n",
    "# Plot 1 left empty for spectrum pdf\n",
    "axs[0].set_ylabel(\"Intensity\")\n",
    "axs[0].set_xlim((535.7,539.5))\n",
    "axs[0].set_ylim((0, 160))\n",
    "\n",
    "# Plot 2 for PICOR corrected data\n",
    "comparison.plot.bar(ax=axs[1])\n",
    "axs[1].legend(frameon=False, ncol=1)\n",
    "axs[1].set_ylabel(\"Intensity\")\n",
    "axs[1].set_ylim((0, 160))\n",
    "\n",
    "# Plot 3 for timecourse\n",
    "plot_time_course_corr_uncorr(dfs, usecols=all_col, ax=axs[2])\n",
    "\n",
    "axs[2].legend(frameon=False, ncol=1)\n",
    "axs[2].set_ylabel(\"Relative Abundance\")\n",
    "sns.despine()\n",
    "plt.tight_layout()\n",
    "fig.savefig(\"histone3/spectrum_comparison.pdf\")"
   ]
  },
  {
   "cell_type": "markdown",
   "metadata": {},
   "source": [
    "## Acetyl-CoA"
   ]
  },
  {
   "cell_type": "code",
   "execution_count": 13,
   "metadata": {},
   "outputs": [],
   "source": [
    "molecule = \"acetyl-coa\""
   ]
  },
  {
   "cell_type": "code",
   "execution_count": 14,
   "metadata": {},
   "outputs": [],
   "source": [
    "accucor_res = pd.read_excel(\"acetyl-coa/accucor/accucor_input_corrected.xlsx\", sheet_name=\"Corrected\")\n",
    "accucor_res.index = [\"No Label\"] + [f\"{i:0>2d}C13\" for i in range(1,24)]\n",
    "accucor_res.drop(columns=[\"Compound\", \"C_Label\"], inplace=True)\n",
    "accucor_res.columns = [\"AccuCor\"]"
   ]
  },
  {
   "cell_type": "code",
   "execution_count": 15,
   "metadata": {},
   "outputs": [],
   "source": [
    "isocorrector_res = pd.read_csv(\"acetyl-coa/isocorrector/2021-07-16_180553/IsoCorrectoR_result_Corrected.csv\")\n",
    "isocorrector_res.index = [\"No Label\"] + [f\"{i:0>2d}C13\" for i in range(1,24)]\n",
    "isocorrector_res.drop(columns=[\"Unnamed: 0\"], inplace=True)\n",
    "isocorrector_res.columns = [\"IsoCorrectoR\"]"
   ]
  },
  {
   "cell_type": "code",
   "execution_count": 16,
   "metadata": {},
   "outputs": [],
   "source": [
    "isocor_res = pd.read_csv(\"acetyl-coa/isocor/data_corrected.csv\", usecols=[\"isotopologue\",\"corrected_area\"], sep=\"\\t\")\n",
    "isocor_res.index = [\"No Label\"] + [f\"{i:0>2d}C13\" for i in range(1,24)]\n",
    "isocor_res.drop(columns=[\"isotopologue\"], inplace=True)\n",
    "isocor_res.columns = [\"IsoCor\"]"
   ]
  },
  {
   "cell_type": "code",
   "execution_count": 17,
   "metadata": {},
   "outputs": [],
   "source": [
    "spect = pd.read_csv(\"acetyl-coa/ms_acetylcoa_data.csv\", index_col=0)\n",
    "spect.drop(columns=[\"compound\", \"replicate\"], inplace=True)\n",
    "\n",
    "# Get abundances relative to heighest peak\n",
    "m = spect.max().max()\n",
    "spect = spect / m * 100\n",
    "spect = spect.loc[\"360min\"].iloc[0]\n",
    "factor = 100/max(spect)\n",
    "spect.to_clipboard()"
   ]
  },
  {
   "cell_type": "code",
   "execution_count": 18,
   "metadata": {},
   "outputs": [],
   "source": [
    "## Uncomment to calculate PICor correction\n",
    "#res = ic.calc_isotopologue_correction(\n",
    "#    spect,\n",
    "#    molecule_name=molecule,\n",
    "#    resolution_correction=True,\n",
    "#    resolution=60000,\n",
    "#    molecules_file=\"metabolites.csv\",\n",
    "#)"
   ]
  },
  {
   "cell_type": "code",
   "execution_count": 19,
   "metadata": {
    "scrolled": true
   },
   "outputs": [
    {
     "data": {
      "text/plain": [
       "No Label    10.316521\n",
       "01C13        0.000000\n",
       "02C13       10.247026\n",
       "03C13        0.000000\n",
       "04C13        0.000000\n",
       "05C13        5.038936\n",
       "06C13        1.125964\n",
       "07C13        5.749872\n",
       "08C13        0.764366\n",
       "09C13        0.098434\n",
       "10C13        0.000000\n",
       "11C13        0.372023\n",
       "12C13        0.207100\n",
       "13C13        0.000000\n",
       "14C13        0.000000\n",
       "15C13        0.000000\n",
       "16C13        0.000922\n",
       "17C13        0.019494\n",
       "18C13        0.002613\n",
       "19C13        0.020526\n",
       "20C13        0.000000\n",
       "21C13        0.000000\n",
       "22C13        0.000000\n",
       "23C13        0.000000\n",
       "Name: PICor, dtype: float64"
      ]
     },
     "execution_count": 19,
     "metadata": {},
     "output_type": "execute_result"
    }
   ],
   "source": [
    "res = pd.read_csv(\"acetyl-coa/data_picor_corrected.csv\", index_col=0)\n",
    "res = res.loc[\"360min\"].iloc[0]\n",
    "res.name = \"PICor\"\n",
    "res = res.transpose()\n",
    "res"
   ]
  },
  {
   "cell_type": "code",
   "execution_count": 20,
   "metadata": {},
   "outputs": [],
   "source": [
    "data_input = spect.transpose()\n",
    "data_input.name = \"Uncorrected\""
   ]
  },
  {
   "cell_type": "code",
   "execution_count": 21,
   "metadata": {},
   "outputs": [
    {
     "data": {
      "text/html": [
       "<div>\n",
       "<style scoped>\n",
       "    .dataframe tbody tr th:only-of-type {\n",
       "        vertical-align: middle;\n",
       "    }\n",
       "\n",
       "    .dataframe tbody tr th {\n",
       "        vertical-align: top;\n",
       "    }\n",
       "\n",
       "    .dataframe thead th {\n",
       "        text-align: right;\n",
       "    }\n",
       "</style>\n",
       "<table border=\"1\" class=\"dataframe\">\n",
       "  <thead>\n",
       "    <tr style=\"text-align: right;\">\n",
       "      <th></th>\n",
       "      <th>Uncorrected</th>\n",
       "      <th>PICor</th>\n",
       "      <th>AccuCor</th>\n",
       "      <th>IsoCorrectoR</th>\n",
       "      <th>IsoCor</th>\n",
       "    </tr>\n",
       "  </thead>\n",
       "  <tbody>\n",
       "    <tr>\n",
       "      <th>M+0</th>\n",
       "      <td>85.340333</td>\n",
       "      <td>123.574457</td>\n",
       "      <td>123.620438</td>\n",
       "      <td>123.746019</td>\n",
       "      <td>96.515406</td>\n",
       "    </tr>\n",
       "    <tr>\n",
       "      <th>M+1</th>\n",
       "      <td>26.317815</td>\n",
       "      <td>0.000000</td>\n",
       "      <td>1.959272</td>\n",
       "      <td>1.912814</td>\n",
       "      <td>25.494120</td>\n",
       "    </tr>\n",
       "    <tr>\n",
       "      <th>M+2</th>\n",
       "      <td>100.000000</td>\n",
       "      <td>122.742020</td>\n",
       "      <td>125.382839</td>\n",
       "      <td>125.426396</td>\n",
       "      <td>103.612170</td>\n",
       "    </tr>\n",
       "    <tr>\n",
       "      <th>M+3</th>\n",
       "      <td>27.084337</td>\n",
       "      <td>0.000000</td>\n",
       "      <td>0.000000</td>\n",
       "      <td>0.000000</td>\n",
       "      <td>23.351727</td>\n",
       "    </tr>\n",
       "    <tr>\n",
       "      <th>M+4</th>\n",
       "      <td>2.494796</td>\n",
       "      <td>0.000000</td>\n",
       "      <td>0.000000</td>\n",
       "      <td>0.000000</td>\n",
       "      <td>0.000000</td>\n",
       "    </tr>\n",
       "    <tr>\n",
       "      <th>M+5</th>\n",
       "      <td>46.303817</td>\n",
       "      <td>60.357924</td>\n",
       "      <td>60.468370</td>\n",
       "      <td>60.504362</td>\n",
       "      <td>50.073505</td>\n",
       "    </tr>\n",
       "    <tr>\n",
       "      <th>M+6</th>\n",
       "      <td>22.741012</td>\n",
       "      <td>13.487145</td>\n",
       "      <td>15.940383</td>\n",
       "      <td>15.907474</td>\n",
       "      <td>23.168214</td>\n",
       "    </tr>\n",
       "    <tr>\n",
       "      <th>M+7</th>\n",
       "      <td>59.878862</td>\n",
       "      <td>68.873730</td>\n",
       "      <td>70.375770</td>\n",
       "      <td>70.415172</td>\n",
       "      <td>62.572247</td>\n",
       "    </tr>\n",
       "    <tr>\n",
       "      <th>M+8</th>\n",
       "      <td>22.199681</td>\n",
       "      <td>9.155808</td>\n",
       "      <td>11.467779</td>\n",
       "      <td>11.445309</td>\n",
       "      <td>20.286944</td>\n",
       "    </tr>\n",
       "    <tr>\n",
       "      <th>M+9</th>\n",
       "      <td>9.538350</td>\n",
       "      <td>1.179076</td>\n",
       "      <td>2.517133</td>\n",
       "      <td>2.470786</td>\n",
       "      <td>4.652160</td>\n",
       "    </tr>\n",
       "    <tr>\n",
       "      <th>M+10</th>\n",
       "      <td>1.986342</td>\n",
       "      <td>0.000000</td>\n",
       "      <td>0.000000</td>\n",
       "      <td>0.000000</td>\n",
       "      <td>0.149851</td>\n",
       "    </tr>\n",
       "    <tr>\n",
       "      <th>M+11</th>\n",
       "      <td>3.942798</td>\n",
       "      <td>4.456210</td>\n",
       "      <td>4.307530</td>\n",
       "      <td>4.296337</td>\n",
       "      <td>3.832675</td>\n",
       "    </tr>\n",
       "    <tr>\n",
       "      <th>M+12</th>\n",
       "      <td>2.696259</td>\n",
       "      <td>2.480703</td>\n",
       "      <td>2.417068</td>\n",
       "      <td>2.413943</td>\n",
       "      <td>2.761589</td>\n",
       "    </tr>\n",
       "  </tbody>\n",
       "</table>\n",
       "</div>"
      ],
      "text/plain": [
       "      Uncorrected       PICor     AccuCor  IsoCorrectoR      IsoCor\n",
       "M+0     85.340333  123.574457  123.620438    123.746019   96.515406\n",
       "M+1     26.317815    0.000000    1.959272      1.912814   25.494120\n",
       "M+2    100.000000  122.742020  125.382839    125.426396  103.612170\n",
       "M+3     27.084337    0.000000    0.000000      0.000000   23.351727\n",
       "M+4      2.494796    0.000000    0.000000      0.000000    0.000000\n",
       "M+5     46.303817   60.357924   60.468370     60.504362   50.073505\n",
       "M+6     22.741012   13.487145   15.940383     15.907474   23.168214\n",
       "M+7     59.878862   68.873730   70.375770     70.415172   62.572247\n",
       "M+8     22.199681    9.155808   11.467779     11.445309   20.286944\n",
       "M+9      9.538350    1.179076    2.517133      2.470786    4.652160\n",
       "M+10     1.986342    0.000000    0.000000      0.000000    0.149851\n",
       "M+11     3.942798    4.456210    4.307530      4.296337    3.832675\n",
       "M+12     2.696259    2.480703    2.417068      2.413943    2.761589"
      ]
     },
     "execution_count": 21,
     "metadata": {},
     "output_type": "execute_result"
    }
   ],
   "source": [
    "comparison = pd.concat(\n",
    "    [data_input, res, accucor_res, isocorrector_res, isocor_res], axis=1\n",
    ")\n",
    "comparison.index = [f\"M+{i}\" for i in range(24)]\n",
    "comparison = comparison.iloc[0:13]*factor # Scales heighest uncorr peak to 100\n",
    "comparison"
   ]
  },
  {
   "cell_type": "code",
   "execution_count": 22,
   "metadata": {},
   "outputs": [],
   "source": [
    "comparison.to_csv(\"acetyl-coa/comparison_data.csv\")"
   ]
  },
  {
   "cell_type": "code",
   "execution_count": 23,
   "metadata": {},
   "outputs": [
    {
     "data": {
      "text/html": [
       "<div>\n",
       "<style scoped>\n",
       "    .dataframe tbody tr th:only-of-type {\n",
       "        vertical-align: middle;\n",
       "    }\n",
       "\n",
       "    .dataframe tbody tr th {\n",
       "        vertical-align: top;\n",
       "    }\n",
       "\n",
       "    .dataframe thead th {\n",
       "        text-align: right;\n",
       "    }\n",
       "</style>\n",
       "<table border=\"1\" class=\"dataframe\">\n",
       "  <thead>\n",
       "    <tr style=\"text-align: right;\">\n",
       "      <th></th>\n",
       "      <th>Uncorrected</th>\n",
       "      <th>PICor</th>\n",
       "      <th>AccuCor</th>\n",
       "      <th>IsoCorrectoR</th>\n",
       "      <th>IsoCor</th>\n",
       "    </tr>\n",
       "  </thead>\n",
       "  <tbody>\n",
       "    <tr>\n",
       "      <th>M+0</th>\n",
       "      <td>85.340333</td>\n",
       "      <td>123.574457</td>\n",
       "      <td>123.620438</td>\n",
       "      <td>123.746019</td>\n",
       "      <td>96.515406</td>\n",
       "    </tr>\n",
       "    <tr>\n",
       "      <th>M+1</th>\n",
       "      <td>26.317815</td>\n",
       "      <td>0.000000</td>\n",
       "      <td>1.959272</td>\n",
       "      <td>1.912814</td>\n",
       "      <td>25.494120</td>\n",
       "    </tr>\n",
       "    <tr>\n",
       "      <th>M+2</th>\n",
       "      <td>100.000000</td>\n",
       "      <td>122.742020</td>\n",
       "      <td>125.382839</td>\n",
       "      <td>125.426396</td>\n",
       "      <td>103.612170</td>\n",
       "    </tr>\n",
       "    <tr>\n",
       "      <th>M+3</th>\n",
       "      <td>27.084337</td>\n",
       "      <td>0.000000</td>\n",
       "      <td>0.000000</td>\n",
       "      <td>0.000000</td>\n",
       "      <td>23.351727</td>\n",
       "    </tr>\n",
       "    <tr>\n",
       "      <th>M+4</th>\n",
       "      <td>2.494796</td>\n",
       "      <td>0.000000</td>\n",
       "      <td>0.000000</td>\n",
       "      <td>0.000000</td>\n",
       "      <td>0.000000</td>\n",
       "    </tr>\n",
       "    <tr>\n",
       "      <th>M+5</th>\n",
       "      <td>46.303817</td>\n",
       "      <td>60.357924</td>\n",
       "      <td>60.468370</td>\n",
       "      <td>60.504362</td>\n",
       "      <td>50.073505</td>\n",
       "    </tr>\n",
       "    <tr>\n",
       "      <th>M+6</th>\n",
       "      <td>22.741012</td>\n",
       "      <td>13.487145</td>\n",
       "      <td>15.940383</td>\n",
       "      <td>15.907474</td>\n",
       "      <td>23.168214</td>\n",
       "    </tr>\n",
       "    <tr>\n",
       "      <th>M+7</th>\n",
       "      <td>59.878862</td>\n",
       "      <td>68.873730</td>\n",
       "      <td>70.375770</td>\n",
       "      <td>70.415172</td>\n",
       "      <td>62.572247</td>\n",
       "    </tr>\n",
       "    <tr>\n",
       "      <th>M+8</th>\n",
       "      <td>22.199681</td>\n",
       "      <td>9.155808</td>\n",
       "      <td>11.467779</td>\n",
       "      <td>11.445309</td>\n",
       "      <td>20.286944</td>\n",
       "    </tr>\n",
       "    <tr>\n",
       "      <th>M+9</th>\n",
       "      <td>9.538350</td>\n",
       "      <td>1.179076</td>\n",
       "      <td>2.517133</td>\n",
       "      <td>2.470786</td>\n",
       "      <td>4.652160</td>\n",
       "    </tr>\n",
       "    <tr>\n",
       "      <th>M+10</th>\n",
       "      <td>1.986342</td>\n",
       "      <td>0.000000</td>\n",
       "      <td>0.000000</td>\n",
       "      <td>0.000000</td>\n",
       "      <td>0.149851</td>\n",
       "    </tr>\n",
       "    <tr>\n",
       "      <th>M+11</th>\n",
       "      <td>3.942798</td>\n",
       "      <td>4.456210</td>\n",
       "      <td>4.307530</td>\n",
       "      <td>4.296337</td>\n",
       "      <td>3.832675</td>\n",
       "    </tr>\n",
       "    <tr>\n",
       "      <th>M+12</th>\n",
       "      <td>2.696259</td>\n",
       "      <td>2.480703</td>\n",
       "      <td>2.417068</td>\n",
       "      <td>2.413943</td>\n",
       "      <td>2.761589</td>\n",
       "    </tr>\n",
       "  </tbody>\n",
       "</table>\n",
       "</div>"
      ],
      "text/plain": [
       "      Uncorrected       PICor     AccuCor  IsoCorrectoR      IsoCor\n",
       "M+0     85.340333  123.574457  123.620438    123.746019   96.515406\n",
       "M+1     26.317815    0.000000    1.959272      1.912814   25.494120\n",
       "M+2    100.000000  122.742020  125.382839    125.426396  103.612170\n",
       "M+3     27.084337    0.000000    0.000000      0.000000   23.351727\n",
       "M+4      2.494796    0.000000    0.000000      0.000000    0.000000\n",
       "M+5     46.303817   60.357924   60.468370     60.504362   50.073505\n",
       "M+6     22.741012   13.487145   15.940383     15.907474   23.168214\n",
       "M+7     59.878862   68.873730   70.375770     70.415172   62.572247\n",
       "M+8     22.199681    9.155808   11.467779     11.445309   20.286944\n",
       "M+9      9.538350    1.179076    2.517133      2.470786    4.652160\n",
       "M+10     1.986342    0.000000    0.000000      0.000000    0.149851\n",
       "M+11     3.942798    4.456210    4.307530      4.296337    3.832675\n",
       "M+12     2.696259    2.480703    2.417068      2.413943    2.761589"
      ]
     },
     "execution_count": 23,
     "metadata": {},
     "output_type": "execute_result"
    }
   ],
   "source": [
    "comparison = pd.read_csv(\"acetyl-coa/comparison_data.csv\", index_col=0)\n",
    "comparison"
   ]
  },
  {
   "cell_type": "code",
   "execution_count": 24,
   "metadata": {},
   "outputs": [
    {
     "data": {
      "image/png": "[encoded data removed]",
      "text/plain": [
       "<Figure size 239.76x240 with 3 Axes>"
      ]
     },
     "metadata": {
      "needs_background": "light"
     },
     "output_type": "display_data"
    }
   ],
   "source": [
    "sns.set_context(\"paper\", font_scale=0.8)\n",
    "fig, axs = plt.subplots(nrows=2, figsize=(3.33, 2/3*5), sharex=False, sharey=False)\n",
    "\n",
    "# add a big axis, hide frame\n",
    "fig.add_subplot(111, frameon=False)\n",
    "# hide tick and tick label of the big axis\n",
    "plt.tick_params(\n",
    "    labelcolor=\"none\", which=\"both\", top=False, bottom=False, left=False, right=False\n",
    ")\n",
    "axs[0].set_xlabel(\"m/z\")\n",
    "# plt.ylabel(\"Relative Abundance\")\n",
    "\n",
    "# Plot 1 left empty for spectrum pdf\n",
    "axs[0].set_ylabel(\"Intensity\")\n",
    "axs[0].set_xlim((809.87, 822.93))\n",
    "axs[0].set_ylim((0, 130))\n",
    "\n",
    "# Plot 2 for PICOR corrected data\n",
    "comparison.plot.bar(ax=axs[1])\n",
    "axs[1].legend(frameon=False, ncol=1)\n",
    "axs[1].set_ylabel(\"Intensity\")\n",
    "axs[1].set_ylim((0, 130))\n",
    "\n",
    "# ax.set_ylabel(\"Abundance\")\n",
    "# plt.xticks(rotation=0)\n",
    "# ax.set_xlabel(\"X\")\n",
    "sns.despine()\n",
    "plt.tight_layout()\n",
    "fig.savefig(\"acetyl-coa/spectrum_comparison.pdf\")"
   ]
  }
 ],
 "metadata": {
  "kernelspec": {
   "display_name": "Python 3",
   "language": "python",
   "name": "python3"
  },
  "language_info": {
   "codemirror_mode": {
    "name": "ipython",
    "version": 3
   },
   "file_extension": ".py",
   "mimetype": "text/x-python",
   "name": "python",
   "nbconvert_exporter": "python",
   "pygments_lexer": "ipython3",
   "version": "3.8.5"
  },
  "latex_envs": {
   "LaTeX_envs_menu_present": true,
   "autoclose": false,
   "autocomplete": true,
   "bibliofile": "biblio.bib",
   "cite_by": "apalike",
   "current_citInitial": 1,
   "eqLabelWithNumbers": true,
   "eqNumInitial": 1,
   "hotkeys": {
    "equation": "Ctrl-E",
    "itemize": "Ctrl-I"
   },
   "labels_anchors": false,
   "latex_user_defs": false,
   "report_style_numbering": false,
   "user_envs_cfg": false
  }
 },
 "nbformat": 4,
 "nbformat_minor": 4
}
